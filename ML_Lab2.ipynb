{
 "cells": [
  {
   "cell_type": "markdown",
   "id": "1a700ad8-cb40-4299-90fa-3d80f0f4ee54",
   "metadata": {},
   "source": [
    "# Глобальная оптимизация и метаэврестические алгоритмы\n",
    "- В Pygmo запрогроммировать две своих тестовых функции и найти их оптимум 3 разными алгоритмами доступными в библиотеке и получить таблицу сравнения"
   ]
  },
  {
   "cell_type": "code",
   "execution_count": 1,
   "id": "1d3d07f4-0721-47b8-be6d-d6fd5c550064",
   "metadata": {},
   "outputs": [],
   "source": [
    "# импорт модулей\n",
    "import pygmo as pg"
   ]
  },
  {
   "cell_type": "markdown",
   "id": "3ba650b9-ba5e-4f9b-be12-41b9e943c16a",
   "metadata": {},
   "source": [
    "## Функции оптимизации\n",
    "\n",
    "В качестве тестовых функций оптимизации были выбраны функция сферы и функция Матьяса (Matyas)."
   ]
  },
  {
   "cell_type": "code",
   "execution_count": 2,
   "id": "20788930-6743-4f50-b074-b870515792e5",
   "metadata": {},
   "outputs": [],
   "source": [
    "class SphereFunction:\n",
    "    def __init__(self):\n",
    "        self.title = 'Sphere Function'\n",
    "\n",
    "    def fitness(self, x):\n",
    "        return [x[0] ** 2 + x[1] ** 2]\n",
    "\n",
    "    def get_bounds(self):\n",
    "        return [-10, -10], [10, 10]"
   ]
  },
  {
   "cell_type": "code",
   "execution_count": 3,
   "id": "a9a4d665-b407-441f-90f4-e10fbdbd0d9a",
   "metadata": {},
   "outputs": [],
   "source": [
    "class MatyasFunction:\n",
    "    def __init__(self):\n",
    "        self.title = 'Matyas Function'\n",
    "\n",
    "    def fitness(self, x):\n",
    "        return [0.26 * (x[0] ** 2 + x[1] ** 2) - 0.48 * x[0] * x[1]]\n",
    "\n",
    "    def get_bounds(self):\n",
    "        return [-10, -10], [10, 10]"
   ]
  },
  {
   "cell_type": "markdown",
   "id": "3ac314aa-8d76-43c0-b663-aa14190ab93f",
   "metadata": {},
   "source": [
    "## Логика\n",
    "\n",
    "Функция `optimization` отвечает за поиск оптимума функции заданным алгоритмом."
   ]
  },
  {
   "cell_type": "code",
   "execution_count": 4,
   "id": "185ac890-5450-4b82-951f-02ce835380f3",
   "metadata": {},
   "outputs": [],
   "source": [
    "def optimization(algorithm, problem):\n",
    "    prob = pg.problem(problem)\n",
    "    algo = pg.algorithm(algorithm(gen=100))\n",
    "\n",
    "    pop = pg.population(prob, size=10)\n",
    "    result = algo.evolve(pop)\n",
    "\n",
    "    solution = result.champion_x\n",
    "\n",
    "    print(f\"Алгоритм: {algorithm.__name__}, {problem.title}\")\n",
    "    print(f\"Лучшее решение: {solution}\")\n",
    "    print(f\"Значение функции: {problem.fitness(solution)[0]:0.02f}\")\n",
    "    print(\"\\n\")"
   ]
  },
  {
   "cell_type": "markdown",
   "id": "94d7609a-ee26-428d-826f-e814af5c5bfc",
   "metadata": {},
   "source": [
    "Используемые алгоритмы:\n",
    "- DE (Differential Evolution, дифференциальная эволюция)\n",
    "- GWO (Grey Wolf Optimizer, метод серых волков)\n",
    "- SEA (Simulated Annealing, имитация отжига)"
   ]
  },
  {
   "cell_type": "code",
   "execution_count": 5,
   "id": "6845ac7b-f9b9-499b-bcb2-3196c25cf07f",
   "metadata": {},
   "outputs": [
    {
     "name": "stdout",
     "output_type": "stream",
     "text": [
      "Алгоритм: de, Sphere Function\n",
      "Лучшее решение: [-3.26317679e-04 -7.59714913e-05]\n",
      "Значение функции: 0.00\n",
      "\n",
      "\n",
      "Алгоритм: gwo, Sphere Function\n",
      "Лучшее решение: [-1.99937212e-21 -2.07776584e-21]\n",
      "Значение функции: 0.00\n",
      "\n",
      "\n",
      "Алгоритм: sea, Sphere Function\n",
      "Лучшее решение: [-0.17064152 -0.17067237]\n",
      "Значение функции: 0.06\n",
      "\n",
      "\n",
      "Алгоритм: de, Matyas Function\n",
      "Лучшее решение: [-0.00149991 -0.00107915]\n",
      "Значение функции: 0.00\n",
      "\n",
      "\n",
      "Алгоритм: gwo, Matyas Function\n",
      "Лучшее решение: [-2.98812070e-10 -2.99512714e-10]\n",
      "Значение функции: 0.00\n",
      "\n",
      "\n",
      "Алгоритм: sea, Matyas Function\n",
      "Лучшее решение: [-0.91523537 -1.1048015 ]\n",
      "Значение функции: 0.05\n",
      "\n",
      "\n"
     ]
    }
   ],
   "source": [
    "# Сравнение для функции сферы\n",
    "sphere = SphereFunction()\n",
    "optimization(pg.de, sphere)\n",
    "optimization(pg.gwo, sphere)\n",
    "optimization(pg.sea, sphere)\n",
    "\n",
    "# Сравнение для функции Матьяса\n",
    "matyas = MatyasFunction()\n",
    "optimization(pg.de, matyas)\n",
    "optimization(pg.gwo, matyas)\n",
    "optimization(pg.sea, matyas)"
   ]
  }
 ],
 "metadata": {
  "kernelspec": {
   "display_name": "Python 3 (ipykernel)",
   "language": "python",
   "name": "python3"
  },
  "language_info": {
   "codemirror_mode": {
    "name": "ipython",
    "version": 3
   },
   "file_extension": ".py",
   "mimetype": "text/x-python",
   "name": "python",
   "nbconvert_exporter": "python",
   "pygments_lexer": "ipython3",
   "version": "3.11.7"
  }
 },
 "nbformat": 4,
 "nbformat_minor": 5
}
